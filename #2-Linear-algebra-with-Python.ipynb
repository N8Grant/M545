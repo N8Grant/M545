{
 "cells": [
  {
   "cell_type": "markdown",
   "metadata": {},
   "source": [
    "# Basic Linear Algebra with Python\n",
    "Copyright 2020.  Siman Wong\n",
    "\n",
    "In this document I will show you the basic python syntax for python programming in connection with Math 545.  We will only use a very small subsets of the language.  **Important note:** For Math 545 we will use <font color=\"red\">**Python 3.7 or above**</font>.\n",
    "\n",
    "There are many online resources and references for python, and I have used some of them as I prepare this and other documents I use today (I will give proper credits later in the semester).  I do hope that I have picked out a minimal and yet very useable subset of python that will faciliate your study and applications of linear algebra.\n",
    "\n",
    "\n",
    "What makes python so popular, besides being user-friendly, is that it has a *huge* collection of libraries that allow us to complex calculations/programming without first reinventing the wheel.  From now on, **insert the following lines in the first (code) cell of *every* JN notebook for Math 545**:"
   ]
  },
  {
   "cell_type": "code",
   "execution_count": 1,
   "metadata": {},
   "outputs": [],
   "source": [
    "import numpy as np             # numpy stands for \"numerical python\"\n",
    "import matplotlib.pyplot as plt\n",
    "import scipy.linalg as spla    # scipy: scientific python\n",
    "\n",
    "# remember that we can execute more than more command on one cell,\n",
    "# but you will see an output only from the last command"
   ]
  },
  {
   "cell_type": "markdown",
   "metadata": {},
   "source": [
    "Note that we are not getting any output; that's because we simply load two libraries (and give each one a name so we don't have to type the full name everytime).  Also the \"#\" symbol signifies that the text following the symbols are comments and will be ignored by python.  \n",
    "\n",
    "*It is a good habit to add comments to your codes*.\n",
    "\n",
    "===================================="
   ]
  },
  {
   "cell_type": "markdown",
   "metadata": {},
   "source": [
    "In the Intro-to-JN slides I aleady showed you show to print stuff:"
   ]
  },
  {
   "cell_type": "code",
   "execution_count": 2,
   "metadata": {},
   "outputs": [
    {
     "name": "stdout",
     "output_type": "stream",
     "text": [
      "hello world\n",
      "Pi is not equal to  3.142857142857143\n",
      "Look what happens when we divide 4 by 2:   2.0\n"
     ]
    }
   ],
   "source": [
    "print(\"hello world\")\n",
    "print(\"Pi is not equal to \", 22/7)\n",
    "\n",
    "# remember that by default, python turns fractions into decimals,\n",
    "# EVEN IF THE FRACTION IS AN INTEGER:\n",
    "\n",
    "print(\"Look what happens when we divide 4 by 2:  \", 4/2)"
   ]
  },
  {
   "cell_type": "markdown",
   "metadata": {},
   "source": [
    "### Matrices and Vectors\n",
    "\n",
    "This being a class on linear algebra, the first and foremost objects we are interested in are **matrices** and **vectors**.   But first, a quick python-digression.  It's a bit of CS-inside baseball, but I want to bring it up now to avoid future confusion.\n",
    "\n",
    "Python has a built-in \"list\" data structure that resembles a row vector (in the mathematical sense), and the entries of a python \"list\" can be pretty much anything, includings lists.  This allows us to build data structure that resembles a mathematical matrix.  *However*, for various techincal reasons such structures are **not compatible** with the aforementioned python math libraries.  Instead we need to use numpy's built-in **numpy array** types.\n",
    "\n",
    "*Up-shot*, especially for those who have experience with Python but not numpy:  <font color=\"red\">**Use numpy arrays exclusive for linear algebra**.</font>\n",
    "\n",
    "Python's list data structure are very useful in its own right, and we will make reference to it later in *programming contexts*.  Just make sure you don't confuse the two."
   ]
  },
  {
   "cell_type": "code",
   "execution_count": 3,
   "metadata": {},
   "outputs": [
    {
     "name": "stdout",
     "output_type": "stream",
     "text": [
      "A:\n",
      "[[ 7  8  9]\n",
      " [-4 -5 -6]]\n"
     ]
    }
   ],
   "source": [
    "# Now, it's time to play with numpy arrays.  It's actually very easy.\n",
    "# To define a 2x3 matrix\n",
    "\n",
    "A = np.array([ [7,8,9], [-4,-5,-6] ])\n",
    "\n",
    "print(\"A:\")\n",
    "print(A)"
   ]
  },
  {
   "cell_type": "markdown",
   "metadata": {},
   "source": [
    "### Indexing of entries of python matrices and vectors\n",
    "\n",
    "In standard math notation, the \"(1,2)\" entry of the matrix A above is 8.  Try's try that:\n",
    "\n"
   ]
  },
  {
   "cell_type": "code",
   "execution_count": 4,
   "metadata": {},
   "outputs": [
    {
     "data": {
      "text/plain": [
       "-6"
      ]
     },
     "execution_count": 4,
     "metadata": {},
     "output_type": "execute_result"
    }
   ],
   "source": [
    "A[1,2]\n",
    "\n",
    "# what's going on?"
   ]
  },
  {
   "cell_type": "markdown",
   "metadata": {},
   "source": [
    "You can probably tell what happens:  In **Python**, <font color=\"red\">index of arrays and vectors starts at **position 0**.</font>  So again in the example\n",
    "   \n",
    "   A = np.array([ [7,8,9], [-4,-5,-6] ])\n",
    "   \n",
    "the index of the entry 8 is (0,1)!  Let's try that:"
   ]
  },
  {
   "cell_type": "code",
   "execution_count": 5,
   "metadata": {},
   "outputs": [
    {
     "data": {
      "text/plain": [
       "8"
      ]
     },
     "execution_count": 5,
     "metadata": {},
     "output_type": "execute_result"
    }
   ],
   "source": [
    "A[0,1]"
   ]
  },
  {
   "cell_type": "markdown",
   "metadata": {},
   "source": [
    "This is a purely notational convention; just keep that in mind (very common source of mistake).\n",
    "\n",
    "Another common source of mistake: row-vector vs matrices-with-one-row:"
   ]
  },
  {
   "cell_type": "code",
   "execution_count": 6,
   "metadata": {},
   "outputs": [
    {
     "name": "stdout",
     "output_type": "stream",
     "text": [
      "B\n",
      "[3.         0.2        2.28571429]\n",
      "C\n",
      "[[3.         0.2        2.28571429]]\n"
     ]
    }
   ],
   "source": [
    "# Here is a row vector\n",
    "\n",
    "B = np.array([ 3, 0.2, 16/7])\n",
    "\n",
    "# Here is a 1x3 matrix\n",
    "\n",
    "C = np.array([ [3, 0.2, 16/7] ] )\n",
    "\n",
    "print(\"B\")\n",
    "print(B)\n",
    "print(\"C\")\n",
    "print(C)"
   ]
  },
  {
   "cell_type": "markdown",
   "metadata": {},
   "source": [
    "To see the difference between the two, let's try to access say the \"first entry\":"
   ]
  },
  {
   "cell_type": "code",
   "execution_count": 7,
   "metadata": {},
   "outputs": [
    {
     "name": "stdout",
     "output_type": "stream",
     "text": [
      "3.0\n",
      "[3.         0.2        2.28571429]\n"
     ]
    }
   ],
   "source": [
    "print(B[0])\n",
    "print(C[0])\n",
    "\n",
    "#see the difference?!!"
   ]
  },
  {
   "cell_type": "code",
   "execution_count": 8,
   "metadata": {},
   "outputs": [
    {
     "name": "stdout",
     "output_type": "stream",
     "text": [
      "np.shape of A:   (2, 3)\n",
      "np.shape of B:   (3,)\n",
      "np.shape of C:   (1, 3)\n"
     ]
    }
   ],
   "source": [
    "# We can also verify directly the \"shape\" of the matrices/arrays\n",
    "# we just created:\n",
    "\n",
    "print(\"np.shape of A:  \", np.shape(A))\n",
    "print(\"np.shape of B:  \", np.shape(B))\n",
    "print(\"np.shape of C:  \", np.shape(C))\n",
    "\n",
    "# by the way: Do you notice that I just cleverly introduce to you a\n",
    "# new python function *np.shape* ?!"
   ]
  },
  {
   "cell_type": "markdown",
   "metadata": {},
   "source": [
    "### Practice:  (not to be handed in, but make sure you tried this at home)\n",
    "\n",
    "Numpy does have a built-in \"size\" function; run the codes in the next cell and see if you can figure out what they do."
   ]
  },
  {
   "cell_type": "code",
   "execution_count": 9,
   "metadata": {},
   "outputs": [
    {
     "name": "stdout",
     "output_type": "stream",
     "text": [
      "numpy size of A:   6\n",
      "numpy size of B:   3\n",
      "numpy size of C:   3\n"
     ]
    }
   ],
   "source": [
    "# run these yourself!\n",
    "\n",
    "print(\"numpy size of A:  \", np.size(A))\n",
    "print(\"numpy size of B:  \", np.size(B))\n",
    "print(\"numpy size of C:  \", np.size(C))"
   ]
  },
  {
   "cell_type": "markdown",
   "metadata": {},
   "source": [
    "Let's continue.  It's easy to pick out specific row's and columnn of a matrix --- keeping in mind that you need to use **python's indexing**:"
   ]
  },
  {
   "cell_type": "code",
   "execution_count": 10,
   "metadata": {},
   "outputs": [
    {
     "name": "stdout",
     "output_type": "stream",
     "text": [
      "A:   [[ 7  8  9]\n",
      " [-4 -5 -6]]\n",
      "row with python index 1:   [-4 -5 -6]\n",
      "np.shape of this row:   (3,)\n",
      "col with python index 1:  [ 8 -5]\n",
      "np.shape of this col:   (2,)\n"
     ]
    }
   ],
   "source": [
    "print(\"A:  \", A)\n",
    "\n",
    "row = A[ 1, : ]\n",
    "print(\"row with python index 1:  \", row)\n",
    "print(\"np.shape of this row:  \", np.shape(row))\n",
    "\n",
    "col = A[ : , 1]\n",
    "print(\"col with python index 1: \", col)\n",
    "print(\"np.shape of this col:  \", np.shape(col))\n"
   ]
  },
  {
   "cell_type": "markdown",
   "metadata": {},
   "source": [
    "### Practice:\n",
    "\n",
    "Look at the output **np.shape** for row vs column above:  why is that a bit surprising, and based on that, what <font color=\"red\">**precaution**</font> do you need to make when you use the **np.shape** to <font color=\"red\">**extract columns\"**</font>?  Would you have similar issues if you try to <font color=\"red\">**extract a row\"**</font>?\n"
   ]
  },
  {
   "cell_type": "markdown",
   "metadata": {},
   "source": [
    "### Matrix operations"
   ]
  },
  {
   "cell_type": "code",
   "execution_count": 11,
   "metadata": {},
   "outputs": [
    {
     "name": "stdout",
     "output_type": "stream",
     "text": [
      "D\n",
      "[[1 2]\n",
      " [0 0]]\n",
      "E:\n",
      "[[0 0]\n",
      " [3 4]]\n"
     ]
    }
   ],
   "source": [
    "# The rest of the dicussion makes use of the following two square matrices\n",
    "\n",
    "D = np.array( [ [1,2], [0, 0] ])\n",
    "E = np.array( [ [0,0], [3,4] ])\n",
    "\n",
    "print(\"D\")\n",
    "print(D)\n",
    "print(\"E:\")\n",
    "print(E)"
   ]
  },
  {
   "cell_type": "code",
   "execution_count": null,
   "metadata": {},
   "outputs": [],
   "source": [
    "print(\"matrix sum:\")\n",
    "print(D+E)\n",
    "print(\"matrix difference:\")\n",
    "print(D-E)\n",
    "print(\"scalar mult:\")\n",
    "print(3*D)"
   ]
  },
  {
   "cell_type": "code",
   "execution_count": null,
   "metadata": {},
   "outputs": [],
   "source": [
    "# what about this:\n",
    "\n",
    "print(E*E)"
   ]
  },
  {
   "cell_type": "markdown",
   "metadata": {},
   "source": [
    "**That's not matrix multiplication!!**  \n",
    "\n",
    "Numpy has a special symbol for the <font color=\"red\">**standard matrix multiplication**</font>:"
   ]
  },
  {
   "cell_type": "code",
   "execution_count": null,
   "metadata": {},
   "outputs": [],
   "source": [
    "E@E"
   ]
  },
  {
   "cell_type": "markdown",
   "metadata": {},
   "source": [
    "To compute <font color=\"red\">**matrix powers**</font> we need to bring a function from a *subpackage* of numpy:"
   ]
  },
  {
   "cell_type": "code",
   "execution_count": null,
   "metadata": {},
   "outputs": [],
   "source": [
    "from numpy.linalg import matrix_power as mpow\n",
    "\n",
    "N = np.array([ [1, 1], [0, 1]])\n",
    "print(\"N\")\n",
    "print(N)\n",
    "print(\"2nd power\")\n",
    "print(mpow(N,2))\n",
    "print(\"3rd power\")\n",
    "print(mpow(N,3))\n",
    "print(\"4th power\")\n",
    "print(mpow(N,4))\n",
    "\n",
    "# do you see a pattern? can you give a PROOF?\n",
    "# can you give a GEOMETRIC EXPLANATION?"
   ]
  },
  {
   "cell_type": "markdown",
   "metadata": {},
   "source": [
    "Last but not least:  <font color=\"red\">**matrix inverse**</font> and\n",
    "<font color=\"red\">**determinant**</font>.\n",
    "For that we need to bring in additional functions from the package **scipy.linalg** (already imported at the very top cell):"
   ]
  },
  {
   "cell_type": "code",
   "execution_count": null,
   "metadata": {},
   "outputs": [],
   "source": [
    "D2 = np.array([[1,2],[3,4]])\n",
    "print(\"inverse of D2:\")\n",
    "print(spla.inv(D2))\n",
    "\n",
    "print(\"deteriminant of D\")\n",
    "spla.det(D)"
   ]
  },
  {
   "cell_type": "markdown",
   "metadata": {},
   "source": [
    "It is easy to define your own function/subroutine."
   ]
  },
  {
   "cell_type": "code",
   "execution_count": null,
   "metadata": {},
   "outputs": [],
   "source": [
    "# user-defined function for doubling a matrix --- note that there is no restriction on\n",
    "# the size of the input\n",
    "\n",
    "def doublematrix(inputmatrix):\n",
    "  return 2*inputmatrix"
   ]
  },
  {
   "cell_type": "code",
   "execution_count": null,
   "metadata": {},
   "outputs": [],
   "source": [
    "# Let's test this function\n",
    "\n",
    "A = np.array([[2,3,-4], [0,-6,7]])\n",
    "print(\"A\")\n",
    "print(A)\n",
    "print(\"apply function\")\n",
    "print(doublematrix(A))"
   ]
  },
  {
   "cell_type": "markdown",
   "metadata": {},
   "source": [
    "**Numpy** and **scipy.linalg** has many more linear algebra functions.  We will introduce more as we go along.  But even these bits of python are enough to do *non-trivial linear algebra calculations*."
   ]
  },
  {
   "cell_type": "markdown",
   "metadata": {},
   "source": [
    "### Exercise (important:  you will need this for your group project!)\n",
    "\n",
    "Write a python function\n",
    "  &nbsp;\n",
    "  &nbsp;\n",
    "  &nbsp;\n",
    "**swap(A, i, j)**\n",
    "  &nbsp;\n",
    "  &nbsp;\n",
    "  &nbsp;\n",
    "that swaps the i-th and j-th rows of the input matrix A.\n",
    "\n"
   ]
  },
  {
   "cell_type": "code",
   "execution_count": null,
   "metadata": {},
   "outputs": [],
   "source": []
  }
 ],
 "metadata": {
  "kernelspec": {
   "display_name": "Python 3",
   "language": "python",
   "name": "python3"
  },
  "language_info": {
   "codemirror_mode": {
    "name": "ipython",
    "version": 3
   },
   "file_extension": ".py",
   "mimetype": "text/x-python",
   "name": "python",
   "nbconvert_exporter": "python",
   "pygments_lexer": "ipython3",
   "version": "3.5.4"
  }
 },
 "nbformat": 4,
 "nbformat_minor": 4
}
