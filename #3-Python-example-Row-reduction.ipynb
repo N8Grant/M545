{
 "cells": [
  {
   "cell_type": "code",
   "execution_count": 1,
   "metadata": {},
   "outputs": [],
   "source": [
    "import numpy as np\n",
    "import matplotlib.pyplot as plt\n",
    "import scipy.linalg as spla\n",
    "\n",
    "# remember to ALWAYS put these lines at the top of your Jupyter Notebook"
   ]
  },
  {
   "cell_type": "markdown",
   "metadata": {},
   "source": [
    "# Linear Algebra with Python:  Example (row reduction)\n",
    "Copy right 2020.  Siman Wong\n",
    "\n",
    "\n",
    "In this Jupyter Notebook, let us apply the numpy commands we just learned to study linear algebra, specifically **row reduction of matrices**.  But first we have to deal with a special feature of python (*not a bug!*) that's the source of confusions for new and even occasionally seasoned python programmers."
   ]
  },
  {
   "cell_type": "markdown",
   "metadata": {},
   "source": [
    "### Warning:  Copying numpy arrays"
   ]
  },
  {
   "cell_type": "code",
   "execution_count": null,
   "metadata": {},
   "outputs": [],
   "source": [
    "# When we write programs we often need to \"copy\" a variable and then go on to modify the\n",
    "# copy while leaving the original variable alone.  A standard example is when we want to\n",
    "# swap two numbers x, y:\n",
    "\n",
    "x = -2\n",
    "y = 13\n",
    "\n",
    "print(\"Initial values:   x=\",x, \" y=\",y)\n",
    "\n",
    "# first we make a copy of x\n",
    "\n",
    "copy_of_x = x\n",
    "\n",
    "# now we \"swap y into x\"\n",
    "\n",
    "x = y\n",
    "\n",
    "print(\"Swap y into x:   x=\",x, \" y=\",y)"
   ]
  },
  {
   "cell_type": "code",
   "execution_count": null,
   "metadata": {},
   "outputs": [],
   "source": [
    "# As you can see, at this stage we CANNOT swap y back into x!\n",
    "# Fortunately we have saved a copy of the initial x so we can use that\n",
    "\n",
    "y = copy_of_x\n",
    "\n",
    "print(\"Finally:   x=\",x, \" y=\",y)"
   ]
  },
  {
   "cell_type": "markdown",
   "metadata": {},
   "source": [
    "What if we try to *copy* a **numpy array**?"
   ]
  },
  {
   "cell_type": "code",
   "execution_count": null,
   "metadata": {},
   "outputs": [],
   "source": [
    "A = np.array([1,1,1]);\n",
    "print(\"A:  \", A)\n",
    "             \n",
    "copy_A = A\n",
    "\n",
    "print(\"copy_A:  \", copy_A)"
   ]
  },
  {
   "cell_type": "markdown",
   "metadata": {},
   "source": [
    "So far so good.  Let's modify A a bit:"
   ]
  },
  {
   "cell_type": "code",
   "execution_count": null,
   "metadata": {},
   "outputs": [],
   "source": [
    "A[0]=-333\n",
    "print(\"new A:  \", A)"
   ]
  },
  {
   "cell_type": "markdown",
   "metadata": {},
   "source": [
    "No surprise there.  What about the copy we made?"
   ]
  },
  {
   "cell_type": "code",
   "execution_count": null,
   "metadata": {},
   "outputs": [],
   "source": [
    "print(\"copy_A:  \", copy_A)"
   ]
  },
  {
   "cell_type": "markdown",
   "metadata": {},
   "source": [
    "!!!!!!!!!!!!!!!\n",
    "\n",
    "Moral of the lesson:\n",
    "<br>\n",
    "&nbsp; &nbsp; &nbsp; &nbsp;\n",
    "**Do NOT copy a numpy array using =**\n",
    "<br>\n",
    "Here's the correct way:\n"
   ]
  },
  {
   "cell_type": "code",
   "execution_count": null,
   "metadata": {},
   "outputs": [],
   "source": [
    "A = np.array([1,1,1,1])\n",
    "copy_A = A.copy()\n",
    "print(\"copy_A:  \", copy_A)\n",
    "\n",
    "A[0]=-3333\n",
    "print(\"new A:  \", A)\n",
    "print(\"copy_A:  \", copy_A)"
   ]
  },
  {
   "cell_type": "markdown",
   "metadata": {},
   "source": [
    "That's all for numpy array warning. Let's get back to using python to do row reduction.\n",
    "\n",
    "Example 2 on Monday's lecture involves finding the **echolen form** of the augmented matrix\n",
    "\n",
    "$$\n",
    "\\left(\n",
    "  \\begin{array}{rrrr|r}\n",
    "    2 & -3 & -1 & 2 & -2\n",
    "    \\\\\n",
    "    1 & 0 & 3 & 1 & 6\n",
    "    \\\\\n",
    "    2 & -3 & -1 & 3 & -3\n",
    "    \\\\\n",
    "    0 & 1 & 1 & -2 & 4\n",
    "  \\end{array}\n",
    "\\right)\n",
    "$$\n",
    "\n",
    "Let's see how we can do that using python.\n"
   ]
  },
  {
   "cell_type": "code",
   "execution_count": null,
   "metadata": {},
   "outputs": [],
   "source": [
    "# First we need to define the augmented matrix\n",
    "\n",
    "A = np.array([ [2,-3,-1,2,2], [1,0,3,1,6], [2,-3,-1,3,-3], [0,1,1,-2,4]]);\n",
    "print(A)"
   ]
  },
  {
   "cell_type": "markdown",
   "metadata": {},
   "source": [
    "Note that it does not have the \"vertical bar\" to denote that it is augmented.  But that's\n",
    "just a notation and it plays no role in the row reducion process.\n",
    "\n",
    "Let's now carry out the row reduction.  The top left corner of the top row is the first **pivot**. We will use that to clear out the rest of the non-zero entries of the first column.\n",
    "\n",
    "To avoid messing things up I will make a copy of A and modify that.\n",
    "\n"
   ]
  },
  {
   "cell_type": "code",
   "execution_count": null,
   "metadata": {},
   "outputs": [],
   "source": [
    "A1 = A.copy()\n",
    "print(\"before clearing with first pivot:\")\n",
    "print(A1)\n",
    "# to clear the first \"1\" in the 2nd row we subtract (1/2) first row from the second\n",
    "# to clear the first \"2\" in the 3rd row we subtract (1) first row from the third\n",
    "\n",
    "A1[1, : ] = A1[1, : ] - (1/2) * A1[0, : ]\n",
    "A1[2, : ] = A1[2, : ] -         A1[0, : ]\n",
    "print(\"after clearing with first pivot:\")\n",
    "print(A1)"
   ]
  },
  {
   "cell_type": "code",
   "execution_count": null,
   "metadata": {},
   "outputs": [],
   "source": [
    "# Let's continue.  This time the second pivot is the \"1\" on the second row.  We just have\n",
    "# to clear the bottom row\n",
    "\n",
    "A2 = A1.copy()\n",
    "print(\"before clearing with second pivot:\")\n",
    "print(A2)\n",
    "# to clear the first \"1\" in the 2nd row we subtract (1/2) first row from the second\n",
    "# to clear the first \"2\" in the 3rd row we subtract (1) first row from the third\n",
    "\n",
    "A2[3, : ] = A2[3, : ] -  A2[1, : ]\n",
    "print(\"after clearing with second pivot:\")\n",
    "print(A2)"
   ]
  },
  {
   "cell_type": "code",
   "execution_count": null,
   "metadata": {},
   "outputs": [],
   "source": [
    "# We now have to swap the 3rd and 4th rows:\n",
    "\n",
    "A3 = A2.copy()\n",
    "print(\"before swapping:\")\n",
    "print(A3)\n",
    "temp = A3[2, :].copy()    # what would happen if we do not use \".copy\"?\n",
    "A3[2, :] = A3[3, :]\n",
    "A3[3, :] = temp\n",
    "print(\"after swapping:\")\n",
    "print(A3)"
   ]
  },
  {
   "cell_type": "markdown",
   "metadata": {},
   "source": [
    "It is now in echolen form!\n",
    "\n",
    "==========================================="
   ]
  },
  {
   "cell_type": "markdown",
   "metadata": {},
   "source": [
    "### Your first group project:\n",
    "\n",
    "Write a python program --- as a jupyter notebook -- to do the following:\n",
    "\n",
    "Input:\n",
    "  Augmented matrix A (as a numpy matrix)\n",
    "Output:\n",
    "  1. **Echolen form** of A\n",
    "  2. Determine if the linear system corresponding to A\n",
    "      - has a unique solution\n",
    "      - has no solution\n",
    "      - has infinitely many solutions\n",
    "      \n",
    "You do **not** have to find the solutions\n",
    "\n",
    "==============================================================\n",
    "\n",
    "The only python commands you can use are the ones mentioned in these Jupyter notebooks\n",
    "\n",
    " - Linear-algebra-with-Python  (cf. the last exercise on that notebook)\n",
    " - Python-example-Row-reduction\n",
    " - Python-programming"
   ]
  },
  {
   "cell_type": "markdown",
   "metadata": {},
   "source": [
    "I will flush out the details and post it on moodle.\n",
    "\n",
    "============================================================="
   ]
  },
  {
   "cell_type": "markdown",
   "metadata": {},
   "source": [
    "Of course you can't do this bare hand; in the next Jupyter Notebook I will show you just a few python programming syntax for you to complete this project."
   ]
  },
  {
   "cell_type": "code",
   "execution_count": 17,
   "metadata": {},
   "outputs": [],
   "source": [
    "def swap_rows(A,r1,r2):\n",
    "    copy = A[r1].copy()\n",
    "    A[r1] = A[r2]\n",
    "    A[r2] = copy\n",
    "    return A\n",
    "    \n",
    "def multiply_row(A, c):\n",
    "    return A[c]\n",
    "    \n",
    "def add_two_rows(A, r1, r2):\n",
    "    return A[r1]+A[r2]\n",
    "\n",
    "def in_echelon(A):\n",
    "    pivots = []\n",
    "    for i in range(len(A)):\n",
    "        pivot = 0\n",
    "        found = False\n",
    "        pivots.append(np.argmax(A[i]>0))\n",
    "    return all(i < j for i, j in zip(pivots, pivots[1:])) \n",
    "\n",
    "def find_low_pivot(A, m, k):\n",
    "    remaining_pivots = []\n",
    "    for j in range(m+1,len(A)):\n",
    "        remaining_pivots.append(np.argmax(A[j]>np.argmax(A[m]>k)))\n",
    "    return min(remaining_pivots)\n",
    "    \n",
    "\n",
    "def echelon_it(A,b):\n",
    "    #while not in_echelon(A):\n",
    "    #    for i in range(len(A[0])):\n",
    "            \n",
    "    \n",
    "    return echelon_A, type_of_solution"
   ]
  },
  {
   "cell_type": "code",
   "execution_count": 19,
   "metadata": {},
   "outputs": [
    {
     "data": {
      "text/plain": [
       "0"
      ]
     },
     "execution_count": 19,
     "metadata": {},
     "output_type": "execute_result"
    }
   ],
   "source": [
    "a = np.asarray([[1,2,3],[0,4,5],[2,5,6]])\n",
    "find_low_pivot(a,0,0)"
   ]
  },
  {
   "cell_type": "code",
   "execution_count": null,
   "metadata": {},
   "outputs": [],
   "source": []
  }
 ],
 "metadata": {
  "kernelspec": {
   "display_name": "Python 3",
   "language": "python",
   "name": "python3"
  },
  "language_info": {
   "codemirror_mode": {
    "name": "ipython",
    "version": 3
   },
   "file_extension": ".py",
   "mimetype": "text/x-python",
   "name": "python",
   "nbconvert_exporter": "python",
   "pygments_lexer": "ipython3",
   "version": "3.5.4"
  }
 },
 "nbformat": 4,
 "nbformat_minor": 4
}
