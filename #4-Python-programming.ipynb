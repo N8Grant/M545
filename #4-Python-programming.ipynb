{
 "cells": [
  {
   "cell_type": "code",
   "execution_count": null,
   "metadata": {},
   "outputs": [],
   "source": [
    "import numpy as np\n",
    "import matplotlib.pyplot as plt\n",
    "import scipy.linalg as spla\n",
    "\n",
    "# remember to ALWAYS put these lines at the top of your Jupyter Notebook"
   ]
  },
  {
   "cell_type": "markdown",
   "metadata": {},
   "source": [
    "# Rudments of Python Programming\n",
    "Copyright 2020.  Siman Wong\n",
    "\n",
    "### How to make new matrices\n",
    "\n",
    "When we write programs, often we need to \"initialize\" a variable by setting it to 0 or 1.  Here is how to do this for numpy arrays:"
   ]
  },
  {
   "cell_type": "markdown",
   "metadata": {},
   "source": [
    "ZERO = np.zeros( (2,5) )\n",
    "ONE  = np.ones( (5,1))\n",
    "\n",
    "print(\"ZERO\")\n",
    "print(ZERO)\n",
    "print(\"ONE\")\n",
    "print(ONE)"
   ]
  },
  {
   "cell_type": "markdown",
   "metadata": {},
   "source": [
    "### Exercise (again, not to be handed in but be sure to do this yourself)\n",
    "\n",
    "Numpy's arrays are very flexible; they can handle array's of dimension greater than 2!  While such an arrays are not part of linear algebra, they could be quite handy for programming.  To help you get used to it,\n",
    "examine the following two lines of codes, see if you could figure out what it does, and then run it and see if the output makes sense.\n",
    "\n",
    "*newone = np.ones( (2,3,5))\n",
    "<br>\n",
    "print(newone)*\n",
    "\n",
    "================================="
   ]
  },
  {
   "cell_type": "markdown",
   "metadata": {},
   "source": [
    "By now we know how to create matrices by specifying its entries, and the **np.zeros** and **np.ones** commands are useful for creating and initializing matrices of any size.  But what if we want e.g. to create an array of 100 *consecutive integers*, starting with 1 and ending with 100?  That's a lot of typing!  Instead we should...\n",
    "\n",
    "use a **loop** !"
   ]
  },
  {
   "cell_type": "code",
   "execution_count": null,
   "metadata": {},
   "outputs": [],
   "source": [
    "# before we can assign values to this numpy array, we need to first\n",
    "# CREATE IT and INITIALZE IT  (one's or zero's make no difference)\n",
    "hundred = np.zeros( (100) )\n",
    "\n",
    "# remember that numpy array index starts at 0 !!\n",
    "i=0;\n",
    "while i<100:\n",
    "    hundred[i] = i+1\n",
    "    i=i+1    \n",
    "    \n",
    "# note the INDENTATION and lack of braces or \"end while\" to indicate\n",
    "# the end of the loop.  This is a CRUCIAL FEATURE of python:  The\n",
    "# \"depth\" of a loop is controlled ENTIRELY by indentation"
   ]
  },
  {
   "cell_type": "markdown",
   "metadata": {},
   "source": [
    "We *probably* don't want to print out the whole array, but we can check a few values:"
   ]
  },
  {
   "cell_type": "code",
   "execution_count": null,
   "metadata": {},
   "outputs": [],
   "source": [
    "print(hundred[43])\n",
    "print(hundred[3])\n",
    "print(hundred[99])"
   ]
  },
  {
   "cell_type": "markdown",
   "metadata": {},
   "source": [
    "### Exercise\n",
    "\n",
    "I cannot emphasize the importance of indentation in python.  To make my point, can you figure out what would happen if you run the following program?  *Hint*: Before you run the program, familiar yourself with the <font color=\"red\">**interrupt**</font> option under **kernel** in the top menu...  (better yet: figure out what it does *without* running it!)\n",
    "\n",
    "\n",
    "*hundred = np.zeros( (100) )\n",
    "<br>\n",
    "i=0;\n",
    "<br>\n",
    "while i<100:\n",
    "<br>\n",
    "    hundred[i] = i+1\n",
    "<br>\n",
    "i=i+1*\n",
    "\n",
    "==========================="
   ]
  },
  {
   "cell_type": "markdown",
   "metadata": {},
   "source": [
    "### Range\n",
    "\n",
    "I just show you show run to create the arrange [1, 2, ... 100] using a **while** loop.  We can do that using a **for** loop as well.  To do that I need to first tell you how to specify a *range* in python.\n"
   ]
  },
  {
   "cell_type": "code",
   "execution_count": null,
   "metadata": {
    "scrolled": true
   },
   "outputs": [],
   "source": [
    "# you can probably figure out what the following program does without\n",
    "# running it\n",
    "\n",
    "for i in [1,2,7,8]:\n",
    "    print(i)"
   ]
  },
  {
   "cell_type": "code",
   "execution_count": null,
   "metadata": {},
   "outputs": [],
   "source": [
    "# this one is more interesting:\n",
    "\n",
    "for i in (1,8):\n",
    "    print(i)"
   ]
  },
  {
   "cell_type": "code",
   "execution_count": null,
   "metadata": {},
   "outputs": [],
   "source": [
    "# that's NOT what we want!  Instead, try this:\n",
    "\n",
    "for i in range(1,8):\n",
    "    print(i)"
   ]
  },
  {
   "cell_type": "markdown",
   "metadata": {},
   "source": [
    "Note that this **loop** starts **at** the first number of the range, but it ends **one number smaller** then the second number of the range!\n",
    "*This is not a bug* -- that's how python range works.\n",
    "\n",
    "We are now ready to generate the [1, 2, ..., 100] array using a **for** loop."
   ]
  },
  {
   "cell_type": "code",
   "execution_count": null,
   "metadata": {},
   "outputs": [],
   "source": [
    "# be sure to REinitiaize your variables/arrays!\n",
    "hundred = np.zeros(100)\n",
    "\n",
    "for i in range(0,100):\n",
    "    hundred[i]=i+1"
   ]
  },
  {
   "cell_type": "code",
   "execution_count": null,
   "metadata": {},
   "outputs": [],
   "source": [
    "# let's make sure it works, and remember that python index starts at 0\n",
    "\n",
    "print(hundred[0])\n",
    "print(hundred[13])\n",
    "print(hundred[99])"
   ]
  },
  {
   "cell_type": "markdown",
   "metadata": {},
   "source": [
    "### Exercise\n",
    "\n",
    "1. Write a python program to compute the **dot product** of two row vectors (as numpy arrays).\n",
    "\n",
    "2. Write a python program to create a 10x10 matrix of *consecutive* integers, starting with 1 at the upper left corner and 100 at the bottom right.  Do this *twice*, first using **while** loops and then  **for** loops."
   ]
  },
  {
   "cell_type": "markdown",
   "metadata": {},
   "source": [
    "### if-then-else and random numbers\n",
    "\n"
   ]
  },
  {
   "cell_type": "markdown",
   "metadata": {},
   "source": [
    "In doing mathematical modeling and simulations we often need random numbers.  Numpy let you easily generates an *array* of these in one shot:"
   ]
  },
  {
   "cell_type": "code",
   "execution_count": null,
   "metadata": {},
   "outputs": [],
   "source": [
    "randomarray = np.random.random(4)\n",
    "print(\"Four random numbers between 0 and 1:\")\n",
    "print(randomarray)\n",
    "\n",
    "print(\"A single random number:\")\n",
    "print(np.random.random())\n",
    "\n",
    "print(\"A single random integer within a prescribed range:\")\n",
    "print(np.random.randint(100, 200))"
   ]
  },
  {
   "cell_type": "markdown",
   "metadata": {},
   "source": [
    "Let's generate 1000 random integers between -10000 and 10000, and then determine how many of them are <=0 versus >0.  We can do that using **if-then**."
   ]
  },
  {
   "cell_type": "code",
   "execution_count": null,
   "metadata": {},
   "outputs": [],
   "source": [
    "# initialize counters for the three quantities \n",
    "# note that we can initialize all three at the same time!\n",
    "\n",
    "numneg = numpos = 0;\n",
    "\n",
    "for i in range(0,10000):\n",
    "    n = np.random.randint(-1000, 1000)\n",
    "    if n<=0:\n",
    "        numneg=numneg+1\n",
    "    else: \n",
    "        numpos=numpos+1\n",
    "\n",
    "    \n",
    "print(\"number of non-positive:  \", numneg)    \n",
    "print(\"number of positive:  \", numpos)   "
   ]
  },
  {
   "cell_type": "markdown",
   "metadata": {},
   "source": [
    "Does the answer make sense?  Remember that this is a random simultation, so there will be \"errors\", and different runs will give different results.\n",
    "\n",
    "===========================================\n",
    "\n",
    "Let's change this a bit:  Let's generate 1000 random integers between -10000 and 10000, and then determine how many of them are\n",
    "\n",
    "- <=0\n",
    "- positive and even;\n",
    "- positive and odd.\n",
    "\n",
    "For that we use **if-then-else**.  We also need two more ingredients:\n",
    "\n",
    "- to find the remainder of A when divided by B:  &nbsp; &nbsp; *A % B*\n",
    "- if check if two numbers are equal: &nbsp; &nbsp; *A==B*"
   ]
  },
  {
   "cell_type": "code",
   "execution_count": null,
   "metadata": {},
   "outputs": [],
   "source": [
    "# initialize counters for the three quantities \n",
    "# note that we can initialize all three at the same time!\n",
    "\n",
    "numneg = numposeven = numposodd = 0;\n",
    "\n",
    "for i in range(0,10000):\n",
    "    n = np.random.randint(-1000, 1000)\n",
    "    if n<=0:\n",
    "        numneg=numneg+1\n",
    "    elif n%2==0:\n",
    "        numposeven=numposeven+1\n",
    "    else:\n",
    "        numposodd=numposodd\n",
    "    \n",
    "print(\"number of non-positive:  \", numneg)    \n",
    "print(\"number of positive and even:  \", numposeven)   \n",
    "print(\"number of positive and odd:  \", numposodd)"
   ]
  },
  {
   "cell_type": "markdown",
   "metadata": {},
   "source": [
    "Again, does the answer make sense?\n"
   ]
  },
  {
   "cell_type": "code",
   "execution_count": null,
   "metadata": {},
   "outputs": [],
   "source": []
  }
 ],
 "metadata": {
  "kernelspec": {
   "display_name": "Python 3",
   "language": "python",
   "name": "python3"
  },
  "language_info": {
   "codemirror_mode": {
    "name": "ipython",
    "version": 3
   },
   "file_extension": ".py",
   "mimetype": "text/x-python",
   "name": "python",
   "nbconvert_exporter": "python",
   "pygments_lexer": "ipython3",
   "version": "3.7.6"
  }
 },
 "nbformat": 4,
 "nbformat_minor": 4
}
